{
  "nbformat": 4,
  "nbformat_minor": 0,
  "metadata": {
    "celltoolbar": "Slideshow",
    "kernelspec": {
      "display_name": "Python [conda env:ciencia-de-dados]",
      "language": "python",
      "name": "conda-env-ciencia-de-dados-py"
    },
    "language_info": {
      "codemirror_mode": {
        "name": "ipython",
        "version": 3
      },
      "file_extension": ".py",
      "mimetype": "text/x-python",
      "name": "python",
      "nbconvert_exporter": "python",
      "pygments_lexer": "ipython3",
      "version": "3.7.10"
    },
    "rise": {
      "autolaunch": true,
      "enable_chalkboard": true,
      "progress": true,
      "scroll": true,
      "slideNumber": true
    },
    "colab": {
      "name": "Aula_2_Desvio_Condicional_IF.ipynb",
      "provenance": []
    }
  },
  "cells": [
    {
      "cell_type": "markdown",
      "metadata": {
        "id": "YsYF1cVxf3yR"
      },
      "source": [
        "[![Binder](https://mybinder.org/badge_logo.svg)](https://mybinder.org/v2/gh/storopoli/ciencia-de-dados/master?filepath=notebooks%2FAula_2_Desvio_Condicional_IF.ipynb)\n",
        "<br>\n",
        "[![Open In Colab](https://colab.research.google.com/assets/colab-badge.svg)](https://colab.research.google.com/github/storopoli/ciencia-de-dados/blob/master/notebooks/Aula_2_Desvio_Condicional_IF.ipynb)"
      ]
    },
    {
      "cell_type": "markdown",
      "metadata": {
        "id": "vKR4Q_LHf3yT"
      },
      "source": [
        "# Desvio Condicional (`IF`)\n",
        "\n",
        "**Objetivos**: Apresentar desvio condicional em Python (`IF`)"
      ]
    },
    {
      "cell_type": "markdown",
      "metadata": {
        "id": "4TBaTCFpf3yU"
      },
      "source": [
        "Os desvios condicionais, também chamados de estruturas de seleção ou decisão, são\n",
        "utilizados quando existe a necessidade de verificar condições para a realização de uma\n",
        "instrução ou de uma sequência de instruções. Os testes de seleção também podem ser\n",
        "utilizados para verificar opções de escolha."
      ]
    },
    {
      "cell_type": "markdown",
      "metadata": {
        "id": "TtLLDhZ2f3yU"
      },
      "source": [
        "## Desvio Condicional Simples\n",
        "\n",
        "Esse tipo de desvio é representado por uma instrução que avalia uma expressão lógica, resultando um valor que pode ser verdadeiro ou falso. Ele deve ser utilizado caso seja necessário executar instruções somente se uma condição for verdadeira.\n",
        "\n",
        "**Cuidado com indentação (*identation*)**\n",
        "\n",
        "```python\n",
        "if (condição):\n",
        "    instruções condição verdadeira\n",
        "instruções independentemente da condição ser verdadeira ou não\n",
        "```"
      ]
    },
    {
      "cell_type": "code",
      "metadata": {
        "id": "C7SfEt7Rf3yV"
      },
      "source": [
        "a = 5\n",
        "b = 5\n",
        "c = 0\n",
        "\n",
        "# Pesquisar sobre operadores incrementais\n",
        "if (a == b): # verdadeiro, pois 5 é igual a  5\n",
        "  print('a é igual a b')\n",
        "  c += 2 # pré-incremento, ou seja, somar 2 em \"c\"\n",
        "\n",
        "print('Valor de c: ', c)"
      ],
      "execution_count": null,
      "outputs": []
    },
    {
      "cell_type": "code",
      "metadata": {
        "id": "T4vwLKaaf3yW"
      },
      "source": [
        "a = 5\n",
        "b = 5\n",
        "c = 0\n",
        "if (a != b): # 5 é igual a 5, \n",
        "             # então vai para a linha 8\n",
        "    print('a é diferente de b')\n",
        "    c +=2\n",
        "print('Valor de c: ', c)"
      ],
      "execution_count": null,
      "outputs": []
    },
    {
      "cell_type": "code",
      "metadata": {
        "id": "D8L0JrNPf3yX"
      },
      "source": [
        "a = 5\n",
        "b = 5\n",
        "c = 0\n",
        "\n",
        "if (a == b):\n",
        "  print('a é igual a b')\n",
        "\n",
        "  if (c + 5 == a):\n",
        "    print('c mais cinco é igual a \"a\"')\n",
        "    c += 2\n",
        "    \n",
        "  c += 2\n",
        "print('Valor de c: ', c)"
      ],
      "execution_count": null,
      "outputs": []
    },
    {
      "cell_type": "code",
      "metadata": {
        "id": "BNpweRtcf3yY"
      },
      "source": [
        "a = 5\n",
        "b = 5\n",
        "c = 0\n",
        "\n",
        "if (a == b):\n",
        "  print('a é igual a b')\n",
        "  if (c + 6 == a):\n",
        "    print('c mais seis é igual a a')\n",
        "    c += 2\n",
        "  c +=2\n",
        "print('Valor de c: ', c)"
      ],
      "execution_count": null,
      "outputs": []
    },
    {
      "cell_type": "markdown",
      "metadata": {
        "id": "FRiwUdsTf3yY"
      },
      "source": [
        "## Desvio Condicional Composto\n",
        "O desvio condicional composto prevê uma condição com 2 conjuntos de instruções para serem realizados de acordo com a avaliação da resposta: um bloco de instruções para resposta verdadeiro e um bloco de instruções para resposta falso.\n",
        "\n",
        "```python\n",
        "if (condição):\n",
        "    instruções condição verdadeira\n",
        "else:\n",
        "    instrução condição falsa\n",
        "instruções independentemente da condição ser verdadeira ou não\n",
        "```"
      ]
    },
    {
      "cell_type": "code",
      "metadata": {
        "id": "l_nQ0-0kf3yZ"
      },
      "source": [
        "a = 5\n",
        "b = 5\n",
        "c = 0\n",
        "\n",
        "if (a == b):\n",
        "  print('a é igual a b')\n",
        "  if (c + 5 == a):\n",
        "    print('c mais cinco é igual a a')\n",
        "    c += 2\n",
        "else: # parte falsa da condição\n",
        "    c += 3\n",
        "print('Valor de c: ', c)"
      ],
      "execution_count": null,
      "outputs": []
    },
    {
      "cell_type": "code",
      "metadata": {
        "id": "qgDuN7Hcf3yZ"
      },
      "source": [
        "a = 5\n",
        "b = 5\n",
        "c = 0\n",
        "\n",
        "if (a != b):\n",
        "  print('a é diferente de b')\n",
        "  if (c + 6 == a):\n",
        "    print('c mais seis é igual a a')\n",
        "    c += 2\n",
        "else:\n",
        "    c += 3\n",
        "print('Valor de c: ', c)"
      ],
      "execution_count": null,
      "outputs": []
    },
    {
      "cell_type": "markdown",
      "metadata": {
        "id": "eZwHcymff3ya"
      },
      "source": [
        "## Desvio Condicional Encadeado\n",
        "Um desvio condicional encadeado é uma sequência de testes de seleção, os quais serão executados ou não de acordo com o resultado das condições e de acordo com o encadeamento dos testes.\n",
        "\n",
        "Existem casos em que é necessário estabelecer algumas verificações lógicas de condições definidas sucessivamente. A ideia aqui apresentada sugere a possibilidade de usar uma condição dentro de outra condição, o que leva a uma estrutura de decisão encadeada ou aninhada."
      ]
    },
    {
      "cell_type": "markdown",
      "metadata": {
        "id": "OAV7cjGFf3ya"
      },
      "source": [
        "```python\n",
        "if (condição_1):\n",
        "    instruções condição_1 verdadeira\n",
        "elif (condição_2):\n",
        "    instruções condição_2 verdadeira\n",
        "elif (condição_3):\n",
        "    instruções condição_3 verdadeira\n",
        "else:\n",
        "    instrução condições falsas\n",
        "instruções independentemente das condições serem verdadeiras ou não\n",
        "```"
      ]
    },
    {
      "cell_type": "code",
      "metadata": {
        "id": "vja8NV7of3ya"
      },
      "source": [
        "c = 0\n",
        "a = int(input(\"informe valor de a: \\n\"))\n",
        "\n",
        "if (a == 1):\n",
        "  c = 10\n",
        "elif (a == 2):\n",
        "  c = 11\n",
        "elif (a == 3):\n",
        "  c = 12\n",
        "elif (a == 4):\n",
        "  c = 13\n",
        "elif (a == 5):\n",
        "  c = 14\n",
        "else:\n",
        "  c = 20\n",
        "print(c)"
      ],
      "execution_count": null,
      "outputs": []
    },
    {
      "cell_type": "code",
      "metadata": {
        "id": "Qe169fZszkiO"
      },
      "source": [
        "# Casos Especiais\n",
        "\n",
        "a = 1\n",
        "b = 2\n",
        "\n",
        "#if (a < b or b > 10): # condição composta\n",
        "#  print('É verdade')\n",
        "\n",
        "# Caso em que a condição verdadeira é falsa\n",
        "if (not (a != 1)):\n",
        "  print(not (a != 1))"
      ],
      "execution_count": null,
      "outputs": []
    },
    {
      "cell_type": "markdown",
      "metadata": {
        "id": "PM0bb90af3yb"
      },
      "source": [
        "## Atividade\n",
        "\n",
        "1. Designe uma variável `x` com o valor $8$\n",
        "2. Designe uma variável `y` com o valor $15$\n",
        "3. Crie 2 desvios condicionais:\n",
        "    * O primeiro deve imprimir \"Ao menos uma das condições foi satisfeita\" se `x` maior que $3$ **ou** `y` é número par\n",
        "    * O segundo deve imprimir \"Nenhuma condição foi satisfeita\" se `x` menor ou igual a $3$ **e** `y` é número ímpar\n",
        "\n",
        "\n",
        "Observação: use o módulo `%` para identificar número *ímpar* e *par*"
      ]
    },
    {
      "cell_type": "code",
      "metadata": {
        "id": "LlIFgBjYf3yb"
      },
      "source": [
        "x = 8\n",
        "y = 15\n",
        "if (x > 3) or (y % 2 == 0):\n",
        "    print('Ao menos uma das condições foi satisfeita')\n",
        "else:\n",
        "    print('Nenhuma condição foi satisfeita')"
      ],
      "execution_count": null,
      "outputs": []
    },
    {
      "cell_type": "markdown",
      "metadata": {
        "id": "x3ObXytPf3yb"
      },
      "source": [
        "Resolva a equação do 2° Grau a seguir, realizando a entrada dos valores de (a, b e c) pelo teclado.\n",
        "\n",
        "A solução real da equação é dada por $ax^2 + bx + c = 0$, fórmula de Baskara.\n",
        "\n",
        "Exemplo:\n",
        "\n",
        "<h1>\n",
        "$a=1$, $b=3$ e $c=2$\n",
        "</h1>\n",
        "\n",
        "<h1>\n",
        "$ \\Delta = b^2 - 4ac $, com $a \\neq 0$\n",
        "</h1>\n",
        "\n",
        "Se $ \\Delta < 0$ então mostrar \"não há solução real\"\n",
        "\n",
        "Senão, calcular e apresentar os resultados.\n",
        "<h1>\n",
        "$ x_{1}=\\frac{-b-\\sqrt{\\Delta}}{2a} $\n",
        "</h1>\n",
        "\n",
        "<br>\n",
        "\n",
        "<h1>\n",
        "$ x_{2} = \\frac{-b +\\sqrt{\\Delta}}{2a} $\n",
        "</h1>"
      ]
    },
    {
      "cell_type": "code",
      "metadata": {
        "id": "qo1siITa_Ofi"
      },
      "source": [
        "import math as m\n",
        "\n",
        "a = float(input(\"Informe valor de a: \\n\"))\n",
        "b = float(input(\"Informe valor de b: \\n\"))\n",
        "c = float(input(\"Informe valor de c: \\n\"))\n",
        "\n",
        "if (a == 0):\n",
        "  print(\"O valor de 'a' deve ser diferente de zero (0)\")\n",
        "else:\n",
        "  delta = (b * b) - 4 * a * c\n",
        "\n",
        "  if (delta < 0):\n",
        "    print('Não há solução real.')\n",
        "  else:\n",
        "    x1 = (-b - (m.sqrt(delta)))/ (2 * a)\n",
        "    print('X1 = ', x1)\n",
        "    \n",
        "    x2 = (-b + (m.sqrt(delta)))/ (2 * a)\n",
        "    print('X2 = ', x2)"
      ],
      "execution_count": null,
      "outputs": []
    },
    {
      "cell_type": "markdown",
      "metadata": {
        "id": "nUF8in9-5mX5"
      },
      "source": [
        "# Exercício adicional\n",
        "# A partir do teclado, leia o peso e a altura, calcule o imc e mostre o \"status\", de acordo com a tabela baixo\n",
        "<h1>\n",
        "$ imc = peso / altura^2 $\n",
        "</h1>\n",
        "\n",
        "![](https://www.ricardogozzano.com.br/wp-content/uploads/2020/03/tabela_imc-576x409.png)"
      ]
    },
    {
      "cell_type": "code",
      "metadata": {
        "id": "WOxrCN5O5vRe"
      },
      "source": [
        "import math\n",
        "peso = float(input(\"Digite seu peso em KG: \"))\n",
        "altura = float(input(\"Digite sua altura em Metros:\"))\n",
        "\n",
        "imc = peso / math.pow(altura, 2) # math.pow(base, expoente)\n",
        "\n",
        "if(imc < 18.5):\n",
        "  classificacao = \"Abaixo do peso\"\n",
        "elif(imc > 18.5 and imc < 24.9):\n",
        "  classificacao = \"Peso normal\"\n",
        "elif(imc > 25 and imc < 29.9):\n",
        "  classificacao = \"Sobrepeso\"\n",
        "elif(imc > 30 and imc < 34.9):\n",
        "  classificacao = \"Obesidade Grau I\"\n",
        "elif(imc > 35 and imc < 39.9):\n",
        "  classificacao = \"Obesidade Grau II\"\n",
        "else:\n",
        "  classificacao = \"Obesidade Mórbida\"\n",
        "print(\"Seu IMC é:\", round(imc,2), \" - Classificação:\", classificacao)"
      ],
      "execution_count": null,
      "outputs": []
    }
  ]
}